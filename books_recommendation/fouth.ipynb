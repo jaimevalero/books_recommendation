{
 "metadata": {
  "language_info": {
   "codemirror_mode": {
    "name": "ipython",
    "version": 3
   },
   "file_extension": ".py",
   "mimetype": "text/x-python",
   "name": "python",
   "nbconvert_exporter": "python",
   "pygments_lexer": "ipython3",
   "version": "3.8.5-final"
  },
  "orig_nbformat": 2,
  "kernelspec": {
   "name": "python3",
   "display_name": "Python 3"
  }
 },
 "nbformat": 4,
 "nbformat_minor": 2,
 "cells": [
  {
   "cell_type": "code",
   "execution_count": 1,
   "metadata": {},
   "outputs": [
    {
     "output_type": "execute_result",
     "data": {
      "text/plain": [
       "     Unnamed: 0  Unnamed: 0.1  \\\n",
       "0             0             0   \n",
       "1             1             1   \n",
       "2             2             2   \n",
       "3             3             3   \n",
       "4             4             4   \n",
       "..          ...           ...   \n",
       "98           98            99   \n",
       "99           99           100   \n",
       "100         100           101   \n",
       "101         101           102   \n",
       "102         102           103   \n",
       "\n",
       "                                                  text  \\\n",
       "0      En el año 1177 antes de Cristo unos merodead...   \n",
       "1          MÉTODO   ES LA CITA   «LA TED CONFERENCE...   \n",
       "2        se usa el &nbsp; para evitar un bug de iBo...   \n",
       "3         El concepto niños-alumnos con altas capac...   \n",
       "4         Entre los autores españoles, la huella de...   \n",
       "..                                                 ...   \n",
       "98     El encuadre psicoterapéutico de esta obra re...   \n",
       "99     «Partiendo de un hecho evidente, la colabora...   \n",
       "100      se usa el &nbsp; para evitar un bug de iBo...   \n",
       "101      El sueño norteamericano de legalidad se de...   \n",
       "102      La concepción que podamos tener de la natu...   \n",
       "\n",
       "                                                 title language  \\\n",
       "0    1177 a. C. El año en que la civilización se de...       es   \n",
       "1               1382-metodo-ted-para-hablar-en-publico       es   \n",
       "2                              A este lado del paraíso       es   \n",
       "3                   Altas capacidades en niños y niñas       es   \n",
       "4                                 Antología Palatina I       es   \n",
       "..                                                 ...      ...   \n",
       "98                El proceso de convertirse en persona       es   \n",
       "99                               La república de Azaña       es   \n",
       "100                   La sombra del ciprés es alargada       es   \n",
       "101                                    El sueño eterno       es   \n",
       "102                                      La tabla rasa       es   \n",
       "\n",
       "                       creator                       date  \\\n",
       "0                Erck H. Cline                 2016-06-25   \n",
       "1                  Desconocido  2016-01-27T11:18:53+00:00   \n",
       "2     Francis Scott Fitzgerald  1920-03-25T23:00:00+00:00   \n",
       "3    Ma Teresa Gómez Masdevall  2010-12-31T23:00:00+00:00   \n",
       "4                      AA. VV.  0916-12-31T23:00:00+00:00   \n",
       "..                         ...                        ...   \n",
       "98              Carl R. Rogers  1960-12-31T23:00:00+00:00   \n",
       "99         Juan Carlos Girauta  2005-12-31T23:00:00+00:00   \n",
       "100             Miguel Delibes                 2013-09-07   \n",
       "101           Raymond Chandler  1938-12-31T22:00:00+00:00   \n",
       "102              Steven Pinker  2002-12-31T23:00:00+00:00   \n",
       "\n",
       "                                        identifier  \\\n",
       "0    urn:uuid:d6d6724b-c3be-4fdd-91b4-a0dfe486cc64   \n",
       "1             a859243f-493f-4cd6-ab6c-dc17f95e21fd   \n",
       "2    urn:uuid:7349db48-b27f-4dd1-a4d4-6cc0f8593eb8   \n",
       "3    urn:uuid:ff4c2d23-bc99-4838-9b3b-042d42e93970   \n",
       "4    urn:uuid:bdcc6f94-3982-4260-832c-94aa2bf13c91   \n",
       "..                                             ...   \n",
       "98   urn:uuid:91c27edf-f2af-a497-bb99-de3c2fd846ad   \n",
       "99   urn:uuid:66509641-dc90-de23-f036-6ccaf4c9ad43   \n",
       "100   urn:uuid:epubgratis.me-salay-20130907-011530   \n",
       "101  urn:uuid:b9538181-dbc3-41ac-afeb-9b766d232289   \n",
       "102                                  9788449314896   \n",
       "\n",
       "                                                  stem  \n",
       "0      en el año 1177 antes de cristo unos merodead...  \n",
       "1          metodo   es la cita   «la ted conference...  \n",
       "2        se usa el &nbsp; para evitar un bug de ibo...  \n",
       "3         el concepto niños-alumnos con altas capac...  \n",
       "4         entre los autores españoles, la huella de...  \n",
       "..                                                 ...  \n",
       "98     el encuadre psicoterapeutico de esta obra re...  \n",
       "99     «partiendo de un hecho evidente, la colabora...  \n",
       "100      se usa el &nbsp; para evitar un bug de ibo...  \n",
       "101      el sueño norteamericano de legalidad se de...  \n",
       "102      la concepcion que podamos tener de la natu...  \n",
       "\n",
       "[103 rows x 9 columns]"
      ],
      "text/html": "<div>\n<style scoped>\n    .dataframe tbody tr th:only-of-type {\n        vertical-align: middle;\n    }\n\n    .dataframe tbody tr th {\n        vertical-align: top;\n    }\n\n    .dataframe thead th {\n        text-align: right;\n    }\n</style>\n<table border=\"1\" class=\"dataframe\">\n  <thead>\n    <tr style=\"text-align: right;\">\n      <th></th>\n      <th>Unnamed: 0</th>\n      <th>Unnamed: 0.1</th>\n      <th>text</th>\n      <th>title</th>\n      <th>language</th>\n      <th>creator</th>\n      <th>date</th>\n      <th>identifier</th>\n      <th>stem</th>\n    </tr>\n  </thead>\n  <tbody>\n    <tr>\n      <th>0</th>\n      <td>0</td>\n      <td>0</td>\n      <td>En el año 1177 antes de Cristo unos merodead...</td>\n      <td>1177 a. C. El año en que la civilización se de...</td>\n      <td>es</td>\n      <td>Erck H. Cline</td>\n      <td>2016-06-25</td>\n      <td>urn:uuid:d6d6724b-c3be-4fdd-91b4-a0dfe486cc64</td>\n      <td>en el año 1177 antes de cristo unos merodead...</td>\n    </tr>\n    <tr>\n      <th>1</th>\n      <td>1</td>\n      <td>1</td>\n      <td>MÉTODO   ES LA CITA   «LA TED CONFERENCE...</td>\n      <td>1382-metodo-ted-para-hablar-en-publico</td>\n      <td>es</td>\n      <td>Desconocido</td>\n      <td>2016-01-27T11:18:53+00:00</td>\n      <td>a859243f-493f-4cd6-ab6c-dc17f95e21fd</td>\n      <td>metodo   es la cita   «la ted conference...</td>\n    </tr>\n    <tr>\n      <th>2</th>\n      <td>2</td>\n      <td>2</td>\n      <td>se usa el &amp;nbsp; para evitar un bug de iBo...</td>\n      <td>A este lado del paraíso</td>\n      <td>es</td>\n      <td>Francis Scott Fitzgerald</td>\n      <td>1920-03-25T23:00:00+00:00</td>\n      <td>urn:uuid:7349db48-b27f-4dd1-a4d4-6cc0f8593eb8</td>\n      <td>se usa el &amp;nbsp; para evitar un bug de ibo...</td>\n    </tr>\n    <tr>\n      <th>3</th>\n      <td>3</td>\n      <td>3</td>\n      <td>El concepto niños-alumnos con altas capac...</td>\n      <td>Altas capacidades en niños y niñas</td>\n      <td>es</td>\n      <td>Ma Teresa Gómez Masdevall</td>\n      <td>2010-12-31T23:00:00+00:00</td>\n      <td>urn:uuid:ff4c2d23-bc99-4838-9b3b-042d42e93970</td>\n      <td>el concepto niños-alumnos con altas capac...</td>\n    </tr>\n    <tr>\n      <th>4</th>\n      <td>4</td>\n      <td>4</td>\n      <td>Entre los autores españoles, la huella de...</td>\n      <td>Antología Palatina I</td>\n      <td>es</td>\n      <td>AA. VV.</td>\n      <td>0916-12-31T23:00:00+00:00</td>\n      <td>urn:uuid:bdcc6f94-3982-4260-832c-94aa2bf13c91</td>\n      <td>entre los autores españoles, la huella de...</td>\n    </tr>\n    <tr>\n      <th>...</th>\n      <td>...</td>\n      <td>...</td>\n      <td>...</td>\n      <td>...</td>\n      <td>...</td>\n      <td>...</td>\n      <td>...</td>\n      <td>...</td>\n      <td>...</td>\n    </tr>\n    <tr>\n      <th>98</th>\n      <td>98</td>\n      <td>99</td>\n      <td>El encuadre psicoterapéutico de esta obra re...</td>\n      <td>El proceso de convertirse en persona</td>\n      <td>es</td>\n      <td>Carl R. Rogers</td>\n      <td>1960-12-31T23:00:00+00:00</td>\n      <td>urn:uuid:91c27edf-f2af-a497-bb99-de3c2fd846ad</td>\n      <td>el encuadre psicoterapeutico de esta obra re...</td>\n    </tr>\n    <tr>\n      <th>99</th>\n      <td>99</td>\n      <td>100</td>\n      <td>«Partiendo de un hecho evidente, la colabora...</td>\n      <td>La república de Azaña</td>\n      <td>es</td>\n      <td>Juan Carlos Girauta</td>\n      <td>2005-12-31T23:00:00+00:00</td>\n      <td>urn:uuid:66509641-dc90-de23-f036-6ccaf4c9ad43</td>\n      <td>«partiendo de un hecho evidente, la colabora...</td>\n    </tr>\n    <tr>\n      <th>100</th>\n      <td>100</td>\n      <td>101</td>\n      <td>se usa el &amp;nbsp; para evitar un bug de iBo...</td>\n      <td>La sombra del ciprés es alargada</td>\n      <td>es</td>\n      <td>Miguel Delibes</td>\n      <td>2013-09-07</td>\n      <td>urn:uuid:epubgratis.me-salay-20130907-011530</td>\n      <td>se usa el &amp;nbsp; para evitar un bug de ibo...</td>\n    </tr>\n    <tr>\n      <th>101</th>\n      <td>101</td>\n      <td>102</td>\n      <td>El sueño norteamericano de legalidad se de...</td>\n      <td>El sueño eterno</td>\n      <td>es</td>\n      <td>Raymond Chandler</td>\n      <td>1938-12-31T22:00:00+00:00</td>\n      <td>urn:uuid:b9538181-dbc3-41ac-afeb-9b766d232289</td>\n      <td>el sueño norteamericano de legalidad se de...</td>\n    </tr>\n    <tr>\n      <th>102</th>\n      <td>102</td>\n      <td>103</td>\n      <td>La concepción que podamos tener de la natu...</td>\n      <td>La tabla rasa</td>\n      <td>es</td>\n      <td>Steven Pinker</td>\n      <td>2002-12-31T23:00:00+00:00</td>\n      <td>9788449314896</td>\n      <td>la concepcion que podamos tener de la natu...</td>\n    </tr>\n  </tbody>\n</table>\n<p>103 rows × 9 columns</p>\n</div>"
     },
     "metadata": {},
     "execution_count": 1
    }
   ],
   "source": [
    "import pandas as pd \n",
    "df = pd.read_csv(\"stemmized.csv\")\n",
    "df  "
   ]
  },
  {
   "cell_type": "code",
   "execution_count": 2,
   "metadata": {},
   "outputs": [],
   "source": [
    "import dash\n",
    "import dash_core_components as dcc\n",
    "import dash_html_components as html"
   ]
  },
  {
   "cell_type": "code",
   "execution_count": null,
   "metadata": {},
   "outputs": [],
   "source": [
    "app = dash.Dash()"
   ]
  },
  {
   "cell_type": "code",
   "execution_count": null,
   "metadata": {},
   "outputs": [],
   "source": [
    "app.layout = html.Div('Tutoriales Dash en AprenderPython.com')\n"
   ]
  },
  {
   "cell_type": "code",
   "execution_count": null,
   "metadata": {},
   "outputs": [],
   "source": []
  }
 ]
}